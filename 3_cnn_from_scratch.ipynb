{
 "cells": [
  {
   "cell_type": "markdown",
   "id": "1497e505-8972-4013-848a-92f72a877939",
   "metadata": {},
   "source": [
    "# Convolutional Neural Networks"
   ]
  },
  {
   "cell_type": "markdown",
   "id": "1e4dc920-0ce7-457f-9799-220b09a9085a",
   "metadata": {},
   "source": [
    "_**Building a Convolutional Neural Network (CNN) from Scratch on MNIST dataset.**_"
   ]
  },
  {
   "cell_type": "code",
   "execution_count": 18,
   "id": "e2db8509-5e71-4c8d-92f5-099b3bc8b4ea",
   "metadata": {
    "tags": []
   },
   "outputs": [],
   "source": [
    "# Imports required packages\n",
    "\n",
    "import pickle\n",
    "import numpy as np\n",
    "import tensorflow as tf\n",
    "from sklearn.model_selection import train_test_split"
   ]
  },
  {
   "cell_type": "markdown",
   "id": "b0cb6336-6cd5-4f31-ab57-a142b873d335",
   "metadata": {},
   "source": [
    "## Retrieving & Analysing Dataset"
   ]
  },
  {
   "cell_type": "code",
   "execution_count": 3,
   "id": "3c74135a-4060-41a0-aa34-c85c9d1f98aa",
   "metadata": {
    "tags": []
   },
   "outputs": [],
   "source": [
    "# Load MNIST dataset from a pickle dump\n",
    "\n",
    "with open(\"data/keras_mnist.pickle\", \"rb\") as f:\n",
    "    mnist = pickle.load(f)"
   ]
  },
  {
   "cell_type": "code",
   "execution_count": 5,
   "id": "5758463b-2679-456a-947a-d363af6fbfc5",
   "metadata": {
    "tags": []
   },
   "outputs": [],
   "source": [
    "# Considering dataset is organized in tuple, items are referenced as follows\n",
    "(X_train_full, y_train_full), (X_test, y_test) = mnist"
   ]
  },
  {
   "cell_type": "code",
   "execution_count": null,
   "id": "31b7fd53-f378-4198-ab67-54f45a33eea7",
   "metadata": {
    "tags": []
   },
   "outputs": [],
   "source": [
    "# Check the shape of the datasets\n",
    "\n",
    "print(\"Full training set shape:\", <code here>)\n",
    "print(\"Test set shape:\", <code here>)"
   ]
  },
  {
   "cell_type": "markdown",
   "id": "1d670d08-1b42-4369-9ee9-e415d8e6646c",
   "metadata": {},
   "source": [
    "## Preprocessing"
   ]
  },
  {
   "cell_type": "code",
   "execution_count": 9,
   "id": "07b5fde8-eeab-4c3a-99b8-314d56700892",
   "metadata": {
    "tags": []
   },
   "outputs": [],
   "source": [
    "# Normalize the data between 0 and 1 for effective neural network model training\n",
    "X_train_full = X_train_full / 255.\n",
    "X_test = X_test / 255."
   ]
  },
  {
   "cell_type": "code",
   "execution_count": 20,
   "id": "e7d20ff3-772b-4560-a8fd-d847d060f54a",
   "metadata": {
    "tags": []
   },
   "outputs": [],
   "source": [
    "# Split train dataset further to seperate 5000 instances to be used as validation set\n",
    "# Also, consider stratification during splitting.\n",
    "\n",
    "X_train, X_val, y_train, y_val = <code here>"
   ]
  },
  {
   "cell_type": "code",
   "execution_count": 22,
   "id": "239472ff-641d-4028-88f0-53651e9a5c3d",
   "metadata": {
    "tags": []
   },
   "outputs": [],
   "source": [
    "# To match the input shape of the CNN model, add a channel dimention to each dataset\n",
    "\n",
    "X_train = X_train[..., np.newaxis]\n",
    "X_val = X_val[..., np.newaxis]\n",
    "X_test = X_test[..., np.newaxis]"
   ]
  },
  {
   "cell_type": "code",
   "execution_count": null,
   "id": "5d8ce832-449f-42b1-ab41-3639bcb63199",
   "metadata": {
    "tags": []
   },
   "outputs": [],
   "source": [
    "# Check for the updated shape of the train set\n",
    "\n",
    "<code here>"
   ]
  },
  {
   "cell_type": "markdown",
   "id": "b72d827f-437e-4354-8b6e-6d7d1fd0b4ec",
   "metadata": {},
   "source": [
    "## Modeling"
   ]
  },
  {
   "cell_type": "code",
   "execution_count": 32,
   "id": "ca088df4-4438-4766-a65e-3d8d4a8d4422",
   "metadata": {
    "tags": []
   },
   "outputs": [],
   "source": [
    "# Create CNN model by having convoluted, pooling, dropout and dense layer in the specified order.\n",
    "# Each convoluted layer is further initialized with specific kernel size, padding, activation and initialization.\n",
    "\n",
    "tf.random.set_seed(42)\n",
    "\n",
    "model = tf.keras.Sequential([\n",
    "    # Initialize a 2D convolutional layer with 32 filters, 3 as kernel size, \"same\" as padding,\n",
    "    # \"relu\" activation function and \"he_normal\" as kernel initializer\n",
    "    <code here>,\n",
    "    \n",
    "    # Initialize another 2D convolutional layer with 64 filters and all other parameters as those of the previous layer\n",
    "    <code here>,\n",
    "    \n",
    "    # Initialize a 2D max pooling layer\n",
    "    <code here>,\n",
    "    \n",
    "    # Initialize a \"Flatten\" layer\n",
    "    <code here>,\n",
    "    \n",
    "    # Initialize a dropout layer with 0.25 as rate\n",
    "    <code here>,\n",
    "    \n",
    "    # Initialize a \"Dense\" layer with 128 as output shape, \"relu\" as activation function and\n",
    "    # \"he_normal\" as kernel initializer\n",
    "    <code here>,\n",
    "    \n",
    "    # Initialize another dropout layer with 0.50 as rate\n",
    "    <code here>,\n",
    "    \n",
    "    # Initialize a \"Dense\" layer specifying output shape and activation function according to the task\n",
    "    <code here>\n",
    "])\n",
    "\n",
    "# Compile the model by specifying sparse categorical crossentropy as loss function,\n",
    "# \"nadam\" as optimizer and \"accuracy\" as a metric\n",
    "\n",
    "<code here>"
   ]
  },
  {
   "cell_type": "code",
   "execution_count": null,
   "id": "30ff7b3b-0fb4-495e-bf08-b21cbaf12976",
   "metadata": {
    "tags": []
   },
   "outputs": [],
   "source": [
    "# Fit the model by specifying training dataset, 1 epoch,\n",
    "# validation data (tuple with features and labels)\n",
    "\n",
    "<code here>"
   ]
  },
  {
   "cell_type": "code",
   "execution_count": 36,
   "id": "996d90d0-1235-41b8-a229-1234571afd8b",
   "metadata": {
    "tags": []
   },
   "outputs": [],
   "source": [
    "# Save the trained model for later reference\n",
    "# NOTE: Make sure the folder \"models\" exists under the current working directory\n",
    "\n",
    "model.save(\"./models/my_mnist_cnn_model.keras\")"
   ]
  },
  {
   "cell_type": "code",
   "execution_count": null,
   "id": "6711031f-da80-49cc-8c9b-aa864ce84c80",
   "metadata": {
    "tags": []
   },
   "outputs": [],
   "source": [
    "# Evaluate the model on test dataset\n",
    "<code here>"
   ]
  },
  {
   "cell_type": "markdown",
   "id": "542539aa-8bde-4d9c-a911-237e8ce09202",
   "metadata": {},
   "source": [
    "**Note down the observed accuracy of this model.**"
   ]
  },
  {
   "cell_type": "markdown",
   "id": "14b3ff6b-655d-4b01-b70d-48eb5f45cc13",
   "metadata": {},
   "source": [
    "**Observations:**\n",
    "\n",
    "Note down all your observations in green/blue book."
   ]
  }
 ],
 "metadata": {
  "kernelspec": {
   "display_name": "Python 3 (ipykernel)",
   "language": "python",
   "name": "python3"
  },
  "language_info": {
   "codemirror_mode": {
    "name": "ipython",
    "version": 3
   },
   "file_extension": ".py",
   "mimetype": "text/x-python",
   "name": "python",
   "nbconvert_exporter": "python",
   "pygments_lexer": "ipython3",
   "version": "3.11.5"
  }
 },
 "nbformat": 4,
 "nbformat_minor": 5
}
