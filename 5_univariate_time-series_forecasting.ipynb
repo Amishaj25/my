{
 "cells": [
  {
   "cell_type": "markdown",
   "id": "d8ba4ae5-c7ff-4260-bb34-f63ef040a8bd",
   "metadata": {},
   "source": [
    "# Sequence Processing using Univariate Time-Series"
   ]
  },
  {
   "cell_type": "markdown",
   "id": "1bf51cc5-95e9-4eab-9b13-5efc0e8630ab",
   "metadata": {},
   "source": [
    "_**Analyze a simple time-series dataset and perform univariate time-series forecasting with a simple Recurrent Neural Network (RNN).**_"
   ]
  },
  {
   "cell_type": "markdown",
   "id": "6ffac23b-b054-410f-97ac-6d9332e99e62",
   "metadata": {},
   "source": [
    "The following experiment considers Chicago Transit Authority (CTA) daily ridership dataset available at   (CTA). This dataset shows system-wide boardings for both bus and rail services provided by CTA and it is available at https://data.cityofchicago.org/. The dataset having updates till August 1, 2024 was considered in this experiment. Note that attribute value **W**, **A** ans **U** in attribute **day_type** represent **Weekday**, **Saturday** and **Sunday/Holiday**, respectively."
   ]
  },
  {
   "cell_type": "code",
   "execution_count": 2,
   "id": "2f96b44f-4fc2-4159-8a9b-eca6fed8f4b6",
   "metadata": {
    "tags": []
   },
   "outputs": [],
   "source": [
    "# Imports required packages\n",
    "\n",
    "import pandas as pd\n",
    "import tensorflow as tf\n",
    "import matplotlib.pyplot as plt"
   ]
  },
  {
   "cell_type": "markdown",
   "id": "d006e324-34c3-40c4-8aa4-9fe21dc5b277",
   "metadata": {},
   "source": [
    "## Retrieving & Analysing Dataset"
   ]
  },
  {
   "cell_type": "code",
   "execution_count": 4,
   "id": "f875ba5a-fdb8-4500-ac0a-2b8c5e698a61",
   "metadata": {
    "tags": []
   },
   "outputs": [],
   "source": [
    "# Load the ridership dataset\n",
    "ridership = pd.read_csv(\"./data/CTA-Ridership-Daily_Boarding_Totals_20240829.csv\", parse_dates=[\"service_date\"])"
   ]
  },
  {
   "cell_type": "code",
   "execution_count": null,
   "id": "a32a12df-0958-4d39-afaa-0588fed0d39f",
   "metadata": {
    "tags": []
   },
   "outputs": [],
   "source": [
    "# Print the dataset\n",
    "\n",
    "<code here>"
   ]
  },
  {
   "cell_type": "code",
   "execution_count": 9,
   "id": "b7939b5f-a3aa-4802-925c-a934a2a82aa3",
   "metadata": {
    "tags": []
   },
   "outputs": [],
   "source": [
    "# Set column \"service_date\" as index to make date/time related operations easier\n",
    "ridership = ridership.sort_values(\"service_date\").set_index(\"service_date\")"
   ]
  },
  {
   "cell_type": "code",
   "execution_count": null,
   "id": "13e78cbc-6ece-424b-b78b-f4e9c25d1138",
   "metadata": {
    "tags": []
   },
   "outputs": [],
   "source": [
    "# Print the dataset to check for new index\n",
    "\n",
    "<code here>"
   ]
  },
  {
   "cell_type": "code",
   "execution_count": 13,
   "id": "a66ea1d8-4a32-40cb-9878-e08c6184c023",
   "metadata": {
    "tags": []
   },
   "outputs": [],
   "source": [
    "# Drop the calculated column \"total_rides\" as this is just element-wise addition from columns \"bus\" and \"rail_boardings\".\n",
    "\n",
    "ridership = ridership.drop(\"total_rides\", axis=1)"
   ]
  },
  {
   "cell_type": "code",
   "execution_count": 15,
   "id": "49f52f53-df0a-4da7-861c-40108bcba35f",
   "metadata": {
    "tags": []
   },
   "outputs": [],
   "source": [
    "# Remove duplicate observations, if any\n",
    "ridership = ridership.drop_duplicates()"
   ]
  },
  {
   "cell_type": "code",
   "execution_count": null,
   "id": "eb0169e4-a671-4b3f-8f1a-3c9cf8134930",
   "metadata": {
    "tags": []
   },
   "outputs": [],
   "source": [
    "# Print shape of the dataset\n",
    "\n",
    "<code here>"
   ]
  },
  {
   "cell_type": "code",
   "execution_count": null,
   "id": "bca1e75f-fea7-4425-ba5f-4e2531c7aa8c",
   "metadata": {},
   "outputs": [],
   "source": [
    "# Look at the ridership for March, April and May of 2019\n",
    "\n",
    "ridership[\"2019-03\":\"2019-05\"].plot(grid=True, marker=\".\", figsize=(8, 3.5))\n",
    "\n",
    "plt.show()"
   ]
  },
  {
   "cell_type": "markdown",
   "id": "194dba23-8043-4466-98ae-67d7b50fc353",
   "metadata": {},
   "source": [
    "Looking at the above figure, weekly seasonality was observed."
   ]
  },
  {
   "cell_type": "markdown",
   "id": "deb19cc2-dfc7-4f5d-971c-59790a0759c6",
   "metadata": {},
   "source": [
    "## Univariate Forecasting usning Simple RNN\n",
    "Forecasting tomorrow's rail ridership based (only) on rail ridership [single variable as input] of the past 8 weeks (56 days). "
   ]
  },
  {
   "cell_type": "markdown",
   "id": "8fa68fc4-ed0a-4c4f-a52a-a62050b94594",
   "metadata": {},
   "source": [
    "The inputs to our model will be sequences, each containing 56 values from time steps _t_ – 55 to t. For each input sequence, the model will output a single value as a forecast for time step _t_ + 1."
   ]
  },
  {
   "cell_type": "markdown",
   "id": "21ba3d6c-861c-47a9-8f1f-29f923078b54",
   "metadata": {},
   "source": [
    "**Prepares Datasets for Modeling**"
   ]
  },
  {
   "cell_type": "code",
   "execution_count": 36,
   "id": "2919ae61-7e7c-43bb-89cb-127ed03aa66c",
   "metadata": {
    "tags": []
   },
   "outputs": [],
   "source": [
    "# Splits the time-series into three periods, for training, validation and testing\n",
    "# The values are scaled down by a factor of one million, to ensure the values are near the 0–1 range\n",
    "\n",
    "rail_train = ridership[\"rail_boardings\"][\"2016-01\":\"2018-12\"] / 1e6  # 3 years\n",
    "rail_val = ridership[\"rail_boardings\"][\"2019-01\":\"2019-05\"] / 1e6    # 5 months\n",
    "rail_test = ridership[\"rail_boardings\"][\"2019-06\":] / 1e6            # remaining period from 2019-06"
   ]
  },
  {
   "cell_type": "code",
   "execution_count": null,
   "id": "407b80b7-3714-411a-aea5-7da05a371b2d",
   "metadata": {
    "tags": []
   },
   "outputs": [],
   "source": [
    "# Prepares TensorFlow specific datasets\n",
    "\n",
    "seq_length = 56    # represents sequence of past 8 weeks (56 days) of ridership data\n",
    "\n",
    "tf.random.set_seed(42)\n",
    "\n",
    "rail_train_ds = tf.keras.utils.timeseries_dataset_from_array(\n",
    "    rail_train.to_numpy(),\n",
    "    targets=rail_train[seq_length:],\n",
    "    sequence_length=seq_length,\n",
    "    batch_size=32,\n",
    "    shuffle=True,  # shuffling in training windows is recommended for gradient descent optimizer\n",
    "    seed=42\n",
    ")\n",
    "\n",
    "rail_val_ds = tf.keras.utils.timeseries_dataset_from_array(\n",
    "    rail_val.to_numpy(),\n",
    "    targets=rail_val[seq_length:],\n",
    "    sequence_length=seq_length,\n",
    "    batch_size=32,\n",
    "    shuffle=False  # shuffling is not required for any testing data including validation data\n",
    ")"
   ]
  },
  {
   "cell_type": "code",
   "execution_count": 45,
   "id": "ffd35e4f-2975-4fef-8a0f-6196c5516712",
   "metadata": {
    "tags": []
   },
   "outputs": [],
   "source": [
    "# Resets all the keras states\n",
    "tf.keras.backend.clear_session()\n",
    "\n",
    "tf.random.set_seed(42)\n",
    "\n",
    "# Creates an RNN with 32 recurrent neurons followed by a dense output layer with one output neuron\n",
    "univar_simple_rnn = tf.keras.Sequential([\n",
    "    # Instantiate a \"SimpleRNN\" layer with 32 units as output and input shape as [None, 1]\n",
    "    <code here>\n",
    "\n",
    "    # Instantiate a \"Dense\" layer with 1 unit as output\n",
    "    <code here>\n",
    "])"
   ]
  },
  {
   "cell_type": "code",
   "execution_count": null,
   "id": "d49e65b9-6ec2-4e45-9637-87acdb9b2082",
   "metadata": {
    "tags": []
   },
   "outputs": [],
   "source": [
    "# Initialize callback to stop training when model does improve after a certain number of training iterations\n",
    "early_stopping_callback = tf.keras.callbacks.EarlyStopping(\n",
    "    monitor=\"val_mae\", patience=50, restore_best_weights=True)\n",
    "\n",
    "# Instantiate SGD optimizer with 0.05 as learning rate and 0.9 as momentum\n",
    "optimizer = <code here>\n",
    "\n",
    "# Compile the model with \"huber\" as loss function, already created optimizer and \"mae\" as metric\n",
    "<code here>\n",
    "\n",
    "# Fit the model already created training dataset, 500 as epochs, validation dataset and early stopping callback\n",
    "history = <code here>"
   ]
  },
  {
   "cell_type": "code",
   "execution_count": null,
   "id": "6e3ff833-d383-419b-8ae2-faf74df52347",
   "metadata": {
    "tags": []
   },
   "outputs": [],
   "source": [
    "# After training, evaluate model's performance on validation data using <model>.evaluate method\n",
    "# Show the metric with factor i.e. 1e6 multiplied during scaling\n",
    "\n",
    "val_loss, val_mae = <code here>\n",
    "print(\"Validation MAE of the Simple RNN:\", val_mae * 1e6)"
   ]
  },
  {
   "cell_type": "markdown",
   "id": "8981c3df-cc02-487e-b030-48e422d1203d",
   "metadata": {},
   "source": [
    "**Note down the univariate model's performance.**"
   ]
  },
  {
   "cell_type": "markdown",
   "id": "ad045df5-99dd-44f7-a2f8-05ebc36373cd",
   "metadata": {},
   "source": [
    "**Observations:**\n",
    "\n",
    "Note down all your observations in green/blue book."
   ]
  },
  {
   "cell_type": "code",
   "execution_count": null,
   "id": "6b419ea4-6422-4f85-8ec1-4b5d7bc506a1",
   "metadata": {},
   "outputs": [],
   "source": []
  }
 ],
 "metadata": {
  "kernelspec": {
   "display_name": "Python 3 (ipykernel)",
   "language": "python",
   "name": "python3"
  },
  "language_info": {
   "codemirror_mode": {
    "name": "ipython",
    "version": 3
   },
   "file_extension": ".py",
   "mimetype": "text/x-python",
   "name": "python",
   "nbconvert_exporter": "python",
   "pygments_lexer": "ipython3",
   "version": "3.11.5"
  }
 },
 "nbformat": 4,
 "nbformat_minor": 5
}
