{
 "cells": [
  {
   "cell_type": "markdown",
   "id": "d8ba4ae5-c7ff-4260-bb34-f63ef040a8bd",
   "metadata": {},
   "source": [
    "# Sequence Processing using Multivariate Time-Series"
   ]
  },
  {
   "cell_type": "markdown",
   "id": "1ec3020a-e989-4cc4-bf8d-afa25ba63b7f",
   "metadata": {},
   "source": [
    "_**Analyze a simple time-series dataset and perform multivariate time-series forecasting with a simple Recurrent Neural Network (RNN).**_"
   ]
  },
  {
   "cell_type": "markdown",
   "id": "6ffac23b-b054-410f-97ac-6d9332e99e62",
   "metadata": {},
   "source": [
    "The following experiment considers Chicago Transit Authority (CTA) daily ridership dataset available at   (CTA). This dataset shows system-wide boardings for both bus and rail services provided by CTA and it is available at https://data.cityofchicago.org/. The dataset having updates till August 1, 2024 was considered in this experiment. Note that attribute value **W**, **A** ans **U** in attribute **day_type** represent **Weekday**, **Saturday** and **Sunday/Holiday**, respectively."
   ]
  },
  {
   "cell_type": "code",
   "execution_count": 2,
   "id": "2f96b44f-4fc2-4159-8a9b-eca6fed8f4b6",
   "metadata": {
    "tags": []
   },
   "outputs": [],
   "source": [
    "# Imports required packages\n",
    "\n",
    "import pandas as pd\n",
    "import tensorflow as tf\n",
    "import matplotlib.pyplot as plt"
   ]
  },
  {
   "cell_type": "markdown",
   "id": "d006e324-34c3-40c4-8aa4-9fe21dc5b277",
   "metadata": {
    "tags": []
   },
   "source": [
    "## Retrieving & Analysing Dataset"
   ]
  },
  {
   "cell_type": "code",
   "execution_count": 4,
   "id": "f875ba5a-fdb8-4500-ac0a-2b8c5e698a61",
   "metadata": {
    "tags": []
   },
   "outputs": [],
   "source": [
    "# Load the ridership dataset\n",
    "ridership = pd.read_csv(\"./data/CTA-Ridership-Daily_Boarding_Totals_20240829.csv\", parse_dates=[\"service_date\"])"
   ]
  },
  {
   "cell_type": "code",
   "execution_count": null,
   "id": "a32a12df-0958-4d39-afaa-0588fed0d39f",
   "metadata": {
    "tags": []
   },
   "outputs": [],
   "source": [
    "# Print the dataset\n",
    "\n",
    "<code here>"
   ]
  },
  {
   "cell_type": "code",
   "execution_count": 9,
   "id": "b7939b5f-a3aa-4802-925c-a934a2a82aa3",
   "metadata": {
    "tags": []
   },
   "outputs": [],
   "source": [
    "# Set column \"service_date\" as index to make date/time related operations easier\n",
    "ridership = ridership.sort_values(\"service_date\").set_index(\"service_date\")"
   ]
  },
  {
   "cell_type": "code",
   "execution_count": null,
   "id": "13e78cbc-6ece-424b-b78b-f4e9c25d1138",
   "metadata": {
    "tags": []
   },
   "outputs": [],
   "source": [
    "# Print the dataset to check for new index\n",
    "\n",
    "<code here>"
   ]
  },
  {
   "cell_type": "code",
   "execution_count": 13,
   "id": "a66ea1d8-4a32-40cb-9878-e08c6184c023",
   "metadata": {
    "tags": []
   },
   "outputs": [],
   "source": [
    "# Drop the calculated column \"total_rides\" as this is just element-wise addition from columns \"bus\" and \"rail_boardings\".\n",
    "\n",
    "ridership = ridership.drop(\"total_rides\", axis=1)"
   ]
  },
  {
   "cell_type": "code",
   "execution_count": 15,
   "id": "49f52f53-df0a-4da7-861c-40108bcba35f",
   "metadata": {
    "tags": []
   },
   "outputs": [],
   "source": [
    "# Remove duplicate observations, if any\n",
    "ridership = ridership.drop_duplicates()"
   ]
  },
  {
   "cell_type": "code",
   "execution_count": null,
   "id": "eb0169e4-a671-4b3f-8f1a-3c9cf8134930",
   "metadata": {
    "tags": []
   },
   "outputs": [],
   "source": [
    "# Print shape of the dataset\n",
    "\n",
    "<code here>"
   ]
  },
  {
   "cell_type": "code",
   "execution_count": null,
   "id": "bca1e75f-fea7-4425-ba5f-4e2531c7aa8c",
   "metadata": {},
   "outputs": [],
   "source": [
    "# Look at the ridership for March, April and May of 2019\n",
    "\n",
    "ridership[\"2019-03\":\"2019-05\"].plot(grid=True, marker=\".\", figsize=(8, 3.5))\n",
    "\n",
    "plt.show()"
   ]
  },
  {
   "cell_type": "markdown",
   "id": "194dba23-8043-4466-98ae-67d7b50fc353",
   "metadata": {},
   "source": [
    "Looking at the above figure, weekly seasonality was observed."
   ]
  },
  {
   "cell_type": "markdown",
   "id": "c66fc94f-4e7a-4718-ab10-b1b094d5dcbe",
   "metadata": {},
   "source": [
    "## Multivariate Forecasting using Simple RNN\n",
    "\n",
    "Forecasting tomorrow's rail ridership based on both bus and rail ridership [multiple variables as input] of the past 8 weeks (56 days). Day type (weekday, a weekend, or a holiday) is also take into consideration."
   ]
  },
  {
   "cell_type": "markdown",
   "id": "2f65172e-1edd-4ffe-a98a-1b02fbffcc5a",
   "metadata": {},
   "source": [
    "**Prepare Datasets for Modeling**"
   ]
  },
  {
   "cell_type": "code",
   "execution_count": null,
   "id": "407d5c6f-771c-4971-9258-40e3b74d8481",
   "metadata": {},
   "outputs": [],
   "source": [
    "# Prepare dataset with multiple features as input for modeling\n",
    "# Ridership values are once again scaled down by a factor of one million, \n",
    "# to ensure the values are near the 0–1 range\n",
    "\n",
    "ridership_multivar = ridership[[\"bus\", \"rail_boardings\"]] / 1e6\n",
    "ridership_multivar[\"next_day_type\"] = ridership[\"day_type\"].shift(-1)  # we know tomorrow's type\n",
    "\n",
    "ridership_multivar = pd.get_dummies(ridership_multivar)  # one-hot encode the day type\n",
    "\n",
    "# Changes datatypes of day type columns from bool to float to create get TensorFlow dataset\n",
    "ridership_multivar[\"next_day_type_A\"] = ridership_multivar[\"next_day_type_A\"].astype(float)\n",
    "ridership_multivar[\"next_day_type_U\"] = ridership_multivar[\"next_day_type_U\"].astype(float)\n",
    "ridership_multivar[\"next_day_type_W\"] = ridership_multivar[\"next_day_type_W\"].astype(float)\n",
    "\n",
    "# Show the encoded multivariate dataset\n",
    "display(ridership_multivar)"
   ]
  },
  {
   "cell_type": "markdown",
   "id": "8a7fe685-4832-4a44-840f-ec1f93fc4a8b",
   "metadata": {},
   "source": [
    "The above dataset is a DataFrame with five columns: bus, rail_boardings, plus three columns containing the one-hot encoding of the next day’s type"
   ]
  },
  {
   "cell_type": "code",
   "execution_count": 128,
   "id": "47bd427a-4666-43fb-b82e-fe6a1a54cea0",
   "metadata": {
    "tags": []
   },
   "outputs": [],
   "source": [
    "# Split the time-series into three periods, for training, validation and testing\n",
    "\n",
    "multivar_train = ridership_multivar[\"2016-01\":\"2018-12\"]     # 3 years\n",
    "multivar_val = ridership_multivar[\"2019-01\":\"2019-05\"]       # 5 months\n",
    "multivar_test = ridership_multivar[\"2019-06\":]               # remaining period from 2019-06"
   ]
  },
  {
   "cell_type": "code",
   "execution_count": 140,
   "id": "9272351d-ac5a-4841-852e-80fcb96bb138",
   "metadata": {
    "tags": []
   },
   "outputs": [],
   "source": [
    "# Prepare TensorFlow specific datasets\n",
    "\n",
    "tf.random.set_seed(42)\n",
    "\n",
    "multivar_train_ds = tf.keras.utils.timeseries_dataset_from_array(\n",
    "    multivar_train.to_numpy(),                              # use all 5 columns as input\n",
    "    targets=multivar_train[\"rail_boardings\"][seq_length:],  # forecast only the rail series\n",
    "    sequence_length=seq_length,\n",
    "    batch_size=32,\n",
    "    shuffle=True,\n",
    "    seed=42\n",
    ")\n",
    "\n",
    "multivar_val_ds = tf.keras.utils.timeseries_dataset_from_array(\n",
    "    multivar_val.to_numpy(),\n",
    "    targets=multivar_val[\"rail_boardings\"][seq_length:],\n",
    "    sequence_length=seq_length,\n",
    "    batch_size=32\n",
    ")"
   ]
  },
  {
   "cell_type": "code",
   "execution_count": 143,
   "id": "fa087c79-d9e5-45b1-90e9-b00419dd094c",
   "metadata": {
    "tags": []
   },
   "outputs": [],
   "source": [
    "# Resets all the keras states\n",
    "tf.keras.backend.clear_session()\n",
    "\n",
    "tf.random.set_seed(42)\n",
    "\n",
    "# Creates an RNN with 32 recurrent neurons followed by a dense output layer with one output neuron\n",
    "# The same model was used before for univariate forecasting, but it is now being used for multivariate forecasting\n",
    "multivar_simple_rnn = tf.keras.Sequential([\n",
    "    # Instantiate a \"SimpleRNN\" layer with 32 units as output and input shape as [None, 5]\n",
    "    <code here>,\n",
    "    \n",
    "    # Instantiate a \"Dense\" layer with 1 unit as output\n",
    "    <code here>\n",
    "])"
   ]
  },
  {
   "cell_type": "code",
   "execution_count": null,
   "id": "acb3c3af-6158-47d9-b096-5a80182587d0",
   "metadata": {
    "tags": []
   },
   "outputs": [],
   "source": [
    "# Sets callback to stop training when model does improve after a certain number of training iterations\n",
    "early_stopping_callback = tf.keras.callbacks.EarlyStopping(monitor=\"val_mae\", patience=50, restore_best_weights=True)\n",
    "\n",
    "# Instantiate SGD optimizer with 0.05 as learning rate and 0.9 as momentum\n",
    "optimizer = <code here>\n",
    "\n",
    "# Compile the model with \"huber\" as loss function, already created optimizer and \"mae\" as metric\n",
    "<code here>\n",
    "\n",
    "# Fit the model already created training dataset, 500 as epochs, validation dataset and early stopping callback\n",
    "# Starts model training process over specified training, validation data and callbacks\n",
    "history = <code here>"
   ]
  },
  {
   "cell_type": "code",
   "execution_count": null,
   "id": "ee529062-c449-4566-b455-4d540421bab8",
   "metadata": {
    "tags": []
   },
   "outputs": [],
   "source": [
    "# After training, model gets evaluated against validation data\n",
    "# Show the metric with factor i.e. 1e6 multiplied during scaling\n",
    "\n",
    "val_loss, val_mae = <code here>\n",
    "print(\"Validation MAE of the Multivariate Simple RNN:\", val_mae * 1e6)"
   ]
  },
  {
   "cell_type": "markdown",
   "id": "af5dca17-5485-43b2-9e96-0750b8cd2513",
   "metadata": {},
   "source": [
    "**Note down the multivariate model's performance.**"
   ]
  },
  {
   "cell_type": "markdown",
   "id": "ad045df5-99dd-44f7-a2f8-05ebc36373cd",
   "metadata": {},
   "source": [
    "**Observations:**\n",
    "\n",
    "Note down all your observations in green/blue book."
   ]
  }
 ],
 "metadata": {
  "kernelspec": {
   "display_name": "Python 3 (ipykernel)",
   "language": "python",
   "name": "python3"
  },
  "language_info": {
   "codemirror_mode": {
    "name": "ipython",
    "version": 3
   },
   "file_extension": ".py",
   "mimetype": "text/x-python",
   "name": "python",
   "nbconvert_exporter": "python",
   "pygments_lexer": "ipython3",
   "version": "3.11.5"
  }
 },
 "nbformat": 4,
 "nbformat_minor": 5
}
