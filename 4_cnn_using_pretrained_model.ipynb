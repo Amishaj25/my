{
 "cells": [
  {
   "cell_type": "markdown",
   "id": "822ba288-3b75-412a-9319-6af3faadc618",
   "metadata": {
    "id": "822ba288-3b75-412a-9319-6af3faadc618"
   },
   "source": [
    "# Convolutional Neural Networks using Pretrained Model"
   ]
  },
  {
   "cell_type": "markdown",
   "id": "da6661bf-3f4c-4462-bcc6-2ac629327c34",
   "metadata": {
    "id": "da6661bf-3f4c-4462-bcc6-2ac629327c34"
   },
   "source": [
    "_**Building an Image Classifier using a Pretrained Xception Model on TensorFlow Flower Dataset.**_"
   ]
  },
  {
   "cell_type": "code",
   "execution_count": null,
   "id": "718bd08c-0c18-4678-810f-4d1bc68862fe",
   "metadata": {
    "id": "718bd08c-0c18-4678-810f-4d1bc68862fe",
    "tags": []
   },
   "outputs": [],
   "source": [
    "# Imports required packages\n",
    "\n",
    "import numpy as np\n",
    "import tensorflow as tf\n",
    "import tensorflow_datasets as tfds    # THIS MIGHT NEED TO BE INSTALLED SEPERATELY\n",
    "import matplotlib.pyplot as plt"
   ]
  },
  {
   "cell_type": "markdown",
   "id": "7a9c7670-776f-49e3-9b75-f911242bf8ff",
   "metadata": {},
   "source": [
    "## Retrieving & Analysing Dataset"
   ]
  },
  {
   "cell_type": "code",
   "execution_count": null,
   "id": "88197236-7630-4ff5-a707-c8a3ff5f999c",
   "metadata": {
    "tags": []
   },
   "outputs": [],
   "source": [
    "# Load the TensorFlow Flowers dataset from specified path\n",
    "tf_flowers, info = tfds.load(\"tf_flowers\", data_dir=\"data/tensorflow_datasets\", \n",
    "                             download=False, as_supervised=True, with_info=True)"
   ]
  },
  {
   "cell_type": "code",
   "execution_count": 5,
   "id": "0164064b-7e31-4303-af97-8a69bd3929d3",
   "metadata": {
    "id": "0164064b-7e31-4303-af97-8a69bd3929d3",
    "tags": []
   },
   "outputs": [],
   "source": [
    "# Extract useful information about the dataset\n",
    "\n",
    "dataset_size = info.splits[\"train\"].num_examples    # Number of instances\n",
    "class_names = info.features[\"label\"].names          # Name of the flowers\n",
    "n_classes = info.features[\"label\"].num_classes      # Count of types of flowers"
   ]
  },
  {
   "cell_type": "code",
   "execution_count": null,
   "id": "b26b8edd-bb38-4ba4-afbd-439b905b3396",
   "metadata": {
    "colab": {
     "base_uri": "https://localhost:8080/"
    },
    "id": "b26b8edd-bb38-4ba4-afbd-439b905b3396",
    "outputId": "12932b78-870e-467b-a039-471619ab04b8",
    "tags": []
   },
   "outputs": [],
   "source": [
    "# Prints basic information about the dataset\n",
    "\n",
    "print(\"Size of the dataset:\", <code here>)\n",
    "print(\"Classes (types of flower):\", <code here>)\n",
    "print(\"Numer of classes:\", <code here>)"
   ]
  },
  {
   "cell_type": "code",
   "execution_count": 13,
   "id": "1095645b-a5a2-4f17-8b64-fc3b573b6b91",
   "metadata": {
    "id": "1095645b-a5a2-4f17-8b64-fc3b573b6b91",
    "tags": []
   },
   "outputs": [],
   "source": [
    "# As this dataset does not provide a seperate test dataset, training set gets further splitted\n",
    "# into test [first 10%], validation [next 15%] and train [remaining 75%] dataset.\n",
    "\n",
    "test_set_raw, val_set_raw, train_set_raw = tfds.load(\n",
    "    \"tf_flowers\",\n",
    "    split=[\"train[:10%]\", \"train[10%:25%]\", \"train[25%:]\"],\n",
    "    data_dir=\"data/tensorflow_datasets\", \n",
    "    download=False, \n",
    "    as_supervised=True)"
   ]
  },
  {
   "cell_type": "code",
   "execution_count": null,
   "id": "10ddbb9c-d541-4f3f-9f49-024780339467",
   "metadata": {
    "colab": {
     "base_uri": "https://localhost:8080/",
     "height": 829
    },
    "id": "10ddbb9c-d541-4f3f-9f49-024780339467",
    "outputId": "db21ecf0-95a9-4784-fc07-0bff3b494df3",
    "tags": []
   },
   "outputs": [],
   "source": [
    "# Plots any 9 flowers to check how they look\n",
    "\n",
    "plt.figure(figsize=(12, 10))\n",
    "index = 0\n",
    "for image, label in val_set_raw.take(9):\n",
    "    index += 1\n",
    "    plt.subplot(3, 3, index)\n",
    "    plt.imshow(image)\n",
    "    plt.title(f\"Class: {class_names[label]}\")\n",
    "    plt.axis(\"off\")\n",
    "\n",
    "plt.show()"
   ]
  },
  {
   "cell_type": "markdown",
   "id": "44e90ff6-3047-4a6d-b079-0ff402275766",
   "metadata": {},
   "source": [
    "## Preprocessing"
   ]
  },
  {
   "cell_type": "markdown",
   "id": "f8f0c9d1-883f-4544-bb19-c7dda2c9f021",
   "metadata": {
    "id": "f8f0c9d1-883f-4544-bb19-c7dda2c9f021"
   },
   "source": [
    "**Resizing Images:** As training instances required to be of the same size during batch processing, image resizing is done over a `Resizing` layer. Function `tf.keras.applications.xception.preprocess_input()` also needs to be called to preprocess the images appropriately for the `Xception` model. Shuffling and prefetching are also added to the training dataset."
   ]
  },
  {
   "cell_type": "code",
   "execution_count": 17,
   "id": "d9aa3243-d780-4912-986b-6653e9b852c6",
   "metadata": {
    "id": "d9aa3243-d780-4912-986b-6653e9b852c6",
    "tags": []
   },
   "outputs": [],
   "source": [
    "tf.random.set_seed(42)\n",
    "\n",
    "batch_size = 32\n",
    "\n",
    "# Configures a preprocessing layer for image resizing\n",
    "preprocess = tf.keras.Sequential([\n",
    "    # To resize each image\n",
    "    tf.keras.layers.Resizing(height=224, width=224, crop_to_aspect_ratio=True),\n",
    "\n",
    "    # to preprocess the resized image appropriately for the Xception model\n",
    "    tf.keras.layers.Lambda(tf.keras.applications.xception.preprocess_input)\n",
    "])\n",
    "\n",
    "# Image instances in different datasets get passed through the preprocessing layer to get resized.\n",
    "\n",
    "train_set = train_set_raw.map(lambda X, y: (preprocess(X), y))\n",
    "\n",
    "train_set = train_set.shuffle(1000, seed=42).batch(batch_size).prefetch(1)  # Note that only train dataset gets additional\n",
    "                                                                            # shuffling for effective batch processing\n",
    "\n",
    "val_set = val_set_raw.map(lambda X, y: (preprocess(X), y)).batch(batch_size)\n",
    "\n",
    "test_set = test_set_raw.map(lambda X, y: (preprocess(X), y)).batch(batch_size)"
   ]
  },
  {
   "cell_type": "markdown",
   "id": "78bea5fd-1abb-4f7c-b27b-13b0da48f84e",
   "metadata": {
    "id": "78bea5fd-1abb-4f7c-b27b-13b0da48f84e"
   },
   "source": [
    "Now each batch contains 32 images, all of them 224 × 224 pixels, with pixel values ranging from –1 to 1."
   ]
  },
  {
   "cell_type": "markdown",
   "id": "a104531d-75ec-4382-a2e0-b64c89900472",
   "metadata": {
    "id": "023070ad-9bbb-43c3-a683-2ee0bbc4389a"
   },
   "source": [
    "## Modeling"
   ]
  },
  {
   "cell_type": "markdown",
   "id": "2e7469d6-9cea-4789-924d-c4b52f509258",
   "metadata": {
    "id": "2e7469d6-9cea-4789-924d-c4b52f509258"
   },
   "source": [
    "Loads the pretrained model, without its top layers, and then replace them with the ones specific to this flower classification task."
   ]
  },
  {
   "cell_type": "code",
   "execution_count": null,
   "id": "64ea0264-95ee-414d-8a59-b46d6896eb3a",
   "metadata": {
    "tags": []
   },
   "outputs": [],
   "source": [
    "# Load the pretrained Xception model for imagenet from the specified path\n",
    "# consider it a base model\n",
    "\n",
    "base_model = tf.keras.models.load_model(\"./models/xception_weights_imagenet.keras\")"
   ]
  },
  {
   "cell_type": "code",
   "execution_count": 31,
   "id": "cb16f1d4-a5fa-439b-aa77-42aa1f324e86",
   "metadata": {
    "tags": []
   },
   "outputs": [],
   "source": [
    "# Add an global average pooling layer at the output of the base model\n",
    "avg_pool = <code here>\n",
    "\n",
    "# On top of the average pooling layer, add a dense output layer specifying output shape and \n",
    "# activation function appropriate for classification task\n",
    "output = <code here>\n",
    "\n",
    "# Assemble the model considering inputs as base model's input and outputs as \n",
    "# output layer initialized in the above step\n",
    "model = <code here>"
   ]
  },
  {
   "cell_type": "markdown",
   "id": "49a903b2-d860-48ba-8d99-6a2165232341",
   "metadata": {
    "id": "49a903b2-d860-48ba-8d99-6a2165232341"
   },
   "source": [
    "**Training the model**"
   ]
  },
  {
   "cell_type": "code",
   "execution_count": 73,
   "id": "0c7df5b9-db9e-48ba-9d17-81cc5e7973ba",
   "metadata": {
    "id": "0c7df5b9-db9e-48ba-9d17-81cc5e7973ba",
    "tags": []
   },
   "outputs": [],
   "source": [
    "# Freeze all the layers of the base model before training\n",
    "\n",
    "<code here>"
   ]
  },
  {
   "cell_type": "code",
   "execution_count": null,
   "id": "f401e731-9ea7-4ec2-bca3-b0e6e0f409ab",
   "metadata": {
    "colab": {
     "base_uri": "https://localhost:8080/"
    },
    "id": "f401e731-9ea7-4ec2-bca3-b0e6e0f409ab",
    "outputId": "983c0722-e184-46c5-f001-319573f49944",
    "tags": []
   },
   "outputs": [],
   "source": [
    "# Initialize \"SGD\" as model optimizer with 0.1 as learning rate and 0.9 as momentum\n",
    "optimizer = <code here>\n",
    "\n",
    "# Compile the model by specifying sparse categorical crossentropy as loss function,\n",
    "# already initialized optimizer and \"accuracy\" as a metric\n",
    "<code here>\n",
    "\n",
    "# Fit the model by specifying train set, 1 epoch and validation set\n",
    "history = <code here>"
   ]
  },
  {
   "cell_type": "code",
   "execution_count": null,
   "id": "c796c621-b4c5-4c38-9702-5a6d85b63c75",
   "metadata": {
    "tags": []
   },
   "outputs": [],
   "source": [
    "# Evaluate the model on test set\n",
    "<code here>"
   ]
  },
  {
   "cell_type": "markdown",
   "id": "838c18ee-fd64-42f0-9ca4-4f7233f4bb46",
   "metadata": {},
   "source": [
    "**Note down the observed accuracy of this model.**"
   ]
  },
  {
   "cell_type": "markdown",
   "id": "997dff8e-0341-46db-b2c9-a8ec05ddbf2d",
   "metadata": {},
   "source": [
    "**Observations:**\n",
    "\n",
    "Note down all your observations in green/blue book."
   ]
  }
 ],
 "metadata": {
  "accelerator": "GPU",
  "colab": {
   "gpuType": "T4",
   "provenance": []
  },
  "kernelspec": {
   "display_name": "Python 3 (ipykernel)",
   "language": "python",
   "name": "python3"
  },
  "language_info": {
   "codemirror_mode": {
    "name": "ipython",
    "version": 3
   },
   "file_extension": ".py",
   "mimetype": "text/x-python",
   "name": "python",
   "nbconvert_exporter": "python",
   "pygments_lexer": "ipython3",
   "version": "3.11.5"
  },
  "widgets": {
   "application/vnd.jupyter.widget-state+json": {
    "0bc81992e66445808609adecb89de190": {
     "model_module": "@jupyter-widgets/base",
     "model_module_version": "1.2.0",
     "model_name": "LayoutModel",
     "state": {
      "_model_module": "@jupyter-widgets/base",
      "_model_module_version": "1.2.0",
      "_model_name": "LayoutModel",
      "_view_count": null,
      "_view_module": "@jupyter-widgets/base",
      "_view_module_version": "1.2.0",
      "_view_name": "LayoutView",
      "align_content": null,
      "align_items": null,
      "align_self": null,
      "border": null,
      "bottom": null,
      "display": null,
      "flex": null,
      "flex_flow": null,
      "grid_area": null,
      "grid_auto_columns": null,
      "grid_auto_flow": null,
      "grid_auto_rows": null,
      "grid_column": null,
      "grid_gap": null,
      "grid_row": null,
      "grid_template_areas": null,
      "grid_template_columns": null,
      "grid_template_rows": null,
      "height": null,
      "justify_content": null,
      "justify_items": null,
      "left": null,
      "margin": null,
      "max_height": null,
      "max_width": null,
      "min_height": null,
      "min_width": null,
      "object_fit": null,
      "object_position": null,
      "order": null,
      "overflow": null,
      "overflow_x": null,
      "overflow_y": null,
      "padding": null,
      "right": null,
      "top": null,
      "visibility": null,
      "width": null
     }
    },
    "1dd3ea6cfda94af8a6482441bb688904": {
     "model_module": "@jupyter-widgets/controls",
     "model_module_version": "1.5.0",
     "model_name": "DescriptionStyleModel",
     "state": {
      "_model_module": "@jupyter-widgets/controls",
      "_model_module_version": "1.5.0",
      "_model_name": "DescriptionStyleModel",
      "_view_count": null,
      "_view_module": "@jupyter-widgets/base",
      "_view_module_version": "1.2.0",
      "_view_name": "StyleView",
      "description_width": ""
     }
    },
    "35ce083a927c4b07bd6d3387e75f8a7b": {
     "model_module": "@jupyter-widgets/controls",
     "model_module_version": "1.5.0",
     "model_name": "HTMLModel",
     "state": {
      "_dom_classes": [],
      "_model_module": "@jupyter-widgets/controls",
      "_model_module_version": "1.5.0",
      "_model_name": "HTMLModel",
      "_view_count": null,
      "_view_module": "@jupyter-widgets/controls",
      "_view_module_version": "1.5.0",
      "_view_name": "HTMLView",
      "description": "",
      "description_tooltip": null,
      "layout": "IPY_MODEL_f65f8c160a7c4543944d39c3de95867c",
      "placeholder": "​",
      "style": "IPY_MODEL_3d1f307dfc36427caf471e6c430b2fd5",
      "value": " 5/5 [00:20&lt;00:00,  4.05s/ file]"
     }
    },
    "3d1f307dfc36427caf471e6c430b2fd5": {
     "model_module": "@jupyter-widgets/controls",
     "model_module_version": "1.5.0",
     "model_name": "DescriptionStyleModel",
     "state": {
      "_model_module": "@jupyter-widgets/controls",
      "_model_module_version": "1.5.0",
      "_model_name": "DescriptionStyleModel",
      "_view_count": null,
      "_view_module": "@jupyter-widgets/base",
      "_view_module_version": "1.2.0",
      "_view_name": "StyleView",
      "description_width": ""
     }
    },
    "5263bde574af458b972ad5e10117a772": {
     "model_module": "@jupyter-widgets/controls",
     "model_module_version": "1.5.0",
     "model_name": "ProgressStyleModel",
     "state": {
      "_model_module": "@jupyter-widgets/controls",
      "_model_module_version": "1.5.0",
      "_model_name": "ProgressStyleModel",
      "_view_count": null,
      "_view_module": "@jupyter-widgets/base",
      "_view_module_version": "1.2.0",
      "_view_name": "StyleView",
      "bar_color": null,
      "description_width": ""
     }
    },
    "82b5516d1bfe445e815f585354ae1a5a": {
     "model_module": "@jupyter-widgets/base",
     "model_module_version": "1.2.0",
     "model_name": "LayoutModel",
     "state": {
      "_model_module": "@jupyter-widgets/base",
      "_model_module_version": "1.2.0",
      "_model_name": "LayoutModel",
      "_view_count": null,
      "_view_module": "@jupyter-widgets/base",
      "_view_module_version": "1.2.0",
      "_view_name": "LayoutView",
      "align_content": null,
      "align_items": null,
      "align_self": null,
      "border": null,
      "bottom": null,
      "display": null,
      "flex": null,
      "flex_flow": null,
      "grid_area": null,
      "grid_auto_columns": null,
      "grid_auto_flow": null,
      "grid_auto_rows": null,
      "grid_column": null,
      "grid_gap": null,
      "grid_row": null,
      "grid_template_areas": null,
      "grid_template_columns": null,
      "grid_template_rows": null,
      "height": null,
      "justify_content": null,
      "justify_items": null,
      "left": null,
      "margin": null,
      "max_height": null,
      "max_width": null,
      "min_height": null,
      "min_width": null,
      "object_fit": null,
      "object_position": null,
      "order": null,
      "overflow": null,
      "overflow_x": null,
      "overflow_y": null,
      "padding": null,
      "right": null,
      "top": null,
      "visibility": null,
      "width": null
     }
    },
    "8919da2eb4804e9a9f45403e12684971": {
     "model_module": "@jupyter-widgets/controls",
     "model_module_version": "1.5.0",
     "model_name": "HBoxModel",
     "state": {
      "_dom_classes": [],
      "_model_module": "@jupyter-widgets/controls",
      "_model_module_version": "1.5.0",
      "_model_name": "HBoxModel",
      "_view_count": null,
      "_view_module": "@jupyter-widgets/controls",
      "_view_module_version": "1.5.0",
      "_view_name": "HBoxView",
      "box_style": "",
      "children": [
       "IPY_MODEL_a252729d136743a69e598471cd1be6d2",
       "IPY_MODEL_c285ce08c1de446fb8b5a6b7cada6081",
       "IPY_MODEL_35ce083a927c4b07bd6d3387e75f8a7b"
      ],
      "layout": "IPY_MODEL_b3997e24989646af9b565b0eb83ea167"
     }
    },
    "a252729d136743a69e598471cd1be6d2": {
     "model_module": "@jupyter-widgets/controls",
     "model_module_version": "1.5.0",
     "model_name": "HTMLModel",
     "state": {
      "_dom_classes": [],
      "_model_module": "@jupyter-widgets/controls",
      "_model_module_version": "1.5.0",
      "_model_name": "HTMLModel",
      "_view_count": null,
      "_view_module": "@jupyter-widgets/controls",
      "_view_module_version": "1.5.0",
      "_view_name": "HTMLView",
      "description": "",
      "description_tooltip": null,
      "layout": "IPY_MODEL_0bc81992e66445808609adecb89de190",
      "placeholder": "​",
      "style": "IPY_MODEL_1dd3ea6cfda94af8a6482441bb688904",
      "value": "Dl Completed...: 100%"
     }
    },
    "b3997e24989646af9b565b0eb83ea167": {
     "model_module": "@jupyter-widgets/base",
     "model_module_version": "1.2.0",
     "model_name": "LayoutModel",
     "state": {
      "_model_module": "@jupyter-widgets/base",
      "_model_module_version": "1.2.0",
      "_model_name": "LayoutModel",
      "_view_count": null,
      "_view_module": "@jupyter-widgets/base",
      "_view_module_version": "1.2.0",
      "_view_name": "LayoutView",
      "align_content": null,
      "align_items": null,
      "align_self": null,
      "border": null,
      "bottom": null,
      "display": null,
      "flex": null,
      "flex_flow": null,
      "grid_area": null,
      "grid_auto_columns": null,
      "grid_auto_flow": null,
      "grid_auto_rows": null,
      "grid_column": null,
      "grid_gap": null,
      "grid_row": null,
      "grid_template_areas": null,
      "grid_template_columns": null,
      "grid_template_rows": null,
      "height": null,
      "justify_content": null,
      "justify_items": null,
      "left": null,
      "margin": null,
      "max_height": null,
      "max_width": null,
      "min_height": null,
      "min_width": null,
      "object_fit": null,
      "object_position": null,
      "order": null,
      "overflow": null,
      "overflow_x": null,
      "overflow_y": null,
      "padding": null,
      "right": null,
      "top": null,
      "visibility": null,
      "width": null
     }
    },
    "c285ce08c1de446fb8b5a6b7cada6081": {
     "model_module": "@jupyter-widgets/controls",
     "model_module_version": "1.5.0",
     "model_name": "FloatProgressModel",
     "state": {
      "_dom_classes": [],
      "_model_module": "@jupyter-widgets/controls",
      "_model_module_version": "1.5.0",
      "_model_name": "FloatProgressModel",
      "_view_count": null,
      "_view_module": "@jupyter-widgets/controls",
      "_view_module_version": "1.5.0",
      "_view_name": "ProgressView",
      "bar_style": "success",
      "description": "",
      "description_tooltip": null,
      "layout": "IPY_MODEL_82b5516d1bfe445e815f585354ae1a5a",
      "max": 5,
      "min": 0,
      "orientation": "horizontal",
      "style": "IPY_MODEL_5263bde574af458b972ad5e10117a772",
      "value": 5
     }
    },
    "f65f8c160a7c4543944d39c3de95867c": {
     "model_module": "@jupyter-widgets/base",
     "model_module_version": "1.2.0",
     "model_name": "LayoutModel",
     "state": {
      "_model_module": "@jupyter-widgets/base",
      "_model_module_version": "1.2.0",
      "_model_name": "LayoutModel",
      "_view_count": null,
      "_view_module": "@jupyter-widgets/base",
      "_view_module_version": "1.2.0",
      "_view_name": "LayoutView",
      "align_content": null,
      "align_items": null,
      "align_self": null,
      "border": null,
      "bottom": null,
      "display": null,
      "flex": null,
      "flex_flow": null,
      "grid_area": null,
      "grid_auto_columns": null,
      "grid_auto_flow": null,
      "grid_auto_rows": null,
      "grid_column": null,
      "grid_gap": null,
      "grid_row": null,
      "grid_template_areas": null,
      "grid_template_columns": null,
      "grid_template_rows": null,
      "height": null,
      "justify_content": null,
      "justify_items": null,
      "left": null,
      "margin": null,
      "max_height": null,
      "max_width": null,
      "min_height": null,
      "min_width": null,
      "object_fit": null,
      "object_position": null,
      "order": null,
      "overflow": null,
      "overflow_x": null,
      "overflow_y": null,
      "padding": null,
      "right": null,
      "top": null,
      "visibility": null,
      "width": null
     }
    }
   }
  }
 },
 "nbformat": 4,
 "nbformat_minor": 5
}
