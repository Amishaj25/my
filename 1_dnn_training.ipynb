{
 "cells": [
  {
   "cell_type": "markdown",
   "id": "d25855e4-2ff0-4b4c-8e6f-0f0dda52d001",
   "metadata": {},
   "source": [
    "# Training Deep Neural Networks"
   ]
  },
  {
   "cell_type": "markdown",
   "id": "c796df2b-07fb-4106-8a01-c86bb7e067ee",
   "metadata": {},
   "source": [
    "**_Build a neural network of appropriate depth on CIFAR10 dataset with batch normalization, He initialization, Swish activation function, Nadam optimizer and early stopping._**"
   ]
  },
  {
   "cell_type": "code",
   "execution_count": 1,
   "id": "13f09618-ff01-4c9b-8aea-70b428d97c0b",
   "metadata": {},
   "outputs": [],
   "source": [
    "# Import required packages\n",
    "\n",
    "import pickle\n",
    "import tensorflow as tf\n",
    "from sklearn.model_selection import train_test_split"
   ]
  },
  {
   "cell_type": "markdown",
   "id": "eef0efe5-3b15-40a6-88a9-ceb79c057f40",
   "metadata": {},
   "source": [
    "## Retrieving & Analysing Dataset"
   ]
  },
  {
   "cell_type": "code",
   "execution_count": 4,
   "id": "3c342575-1d23-4f69-917d-abd731a4ac4a",
   "metadata": {
    "tags": []
   },
   "outputs": [],
   "source": [
    "# Loads CIFAR10 dataset from a pickle dump\n",
    "\n",
    "with open(\"data/cifar10.pickle\", \"rb\") as f:\n",
    "    cifar10 = pickle.load(f)"
   ]
  },
  {
   "cell_type": "code",
   "execution_count": 6,
   "id": "d5c61d8c-4464-4059-8ab0-6960b02f442f",
   "metadata": {
    "tags": []
   },
   "outputs": [],
   "source": [
    "# Considering dataset is organized in tuple, items are referenced as follows\n",
    "\n",
    "(X_train_full, y_train_full), (X_test, y_test) = cifar10"
   ]
  },
  {
   "cell_type": "code",
   "execution_count": null,
   "id": "6bafa3b4-3205-42fb-9525-9cf1b5a18bc8",
   "metadata": {
    "tags": []
   },
   "outputs": [],
   "source": [
    "# Check the shape of the training and test dataset\n",
    "\n",
    "print(\"Shape of the training dataset:\", <code here>)\n",
    "\n",
    "print(\"Shape of the test dataset:\", <code here>)"
   ]
  },
  {
   "cell_type": "markdown",
   "id": "5b475f04-51a0-49e0-b663-762b498dca71",
   "metadata": {},
   "source": [
    "## Preparing Datasets"
   ]
  },
  {
   "cell_type": "code",
   "execution_count": 18,
   "id": "0c4068d0-df78-4e95-bb25-b106c294ea64",
   "metadata": {
    "tags": []
   },
   "outputs": [],
   "source": [
    "# Split train dataset further to seperate 5000 instances to be used as validation set.\n",
    "# Also, consider stratification during splitting.\n",
    "\n",
    "X_train, X_val, y_train, y_val = <code here>"
   ]
  },
  {
   "cell_type": "markdown",
   "id": "bf8a4e57-3f79-4d9d-98e4-424654a8dd18",
   "metadata": {},
   "source": [
    "## Modeling with Batch Normalization"
   ]
  },
  {
   "cell_type": "markdown",
   "id": "c779936f-9650-48ab-8fd9-79a2f013c92b",
   "metadata": {},
   "source": [
    "**Add Batch Normalization (BN) layer after every Dense layer (and before the activation function), except for the output layer.**"
   ]
  },
  {
   "cell_type": "code",
   "execution_count": 30,
   "id": "c0b64a68-3d49-4edf-898b-f0f4bfab7355",
   "metadata": {},
   "outputs": [],
   "source": [
    "# Reset all the keras states\n",
    "tf.keras.backend.clear_session()\n",
    "\n",
    "tf.random.set_seed(42)\n",
    "\n",
    "# Initialize a sequential model\n",
    "<code here>\n",
    "\n",
    "# Initialize a \"Flatten\" layer with input shape and add that to add\n",
    "<code here>\n",
    "\n",
    "# In each iteration in a loop of 20 iterations, \n",
    "#   1) initialize a \"Dense\" layer specifying output shape and \"he_normal\" as kernel initializer and add that to model,\n",
    "#   2) initialize a \"BatchNormalization\" layer and add that to model,\n",
    "#   3) initialize a \"Activation\" layer for \"swish\" activation and add that to model\n",
    "\n",
    "<code here>\n",
    "\n",
    "# Initialize a \"Dense\" layer specifying output shape and activation function according to the task and add to model\n",
    "<code here>\n"
   ]
  },
  {
   "cell_type": "code",
   "execution_count": 32,
   "id": "bc818a3d-09aa-407c-b180-2fda21cd72bf",
   "metadata": {
    "tags": []
   },
   "outputs": [],
   "source": [
    "# Initialize \"Nadam\" as model optimizer with 5e-4 as learning rate\n",
    "<code here>\n",
    "\n",
    "# Compile the model by specifying sparse categorical crossentropy as loss function,\n",
    "# already initialized optimizer and \"accuracy\" as a metric\n",
    "<code here>"
   ]
  },
  {
   "cell_type": "code",
   "execution_count": 34,
   "id": "6d07cd7e-4a8d-42e0-98bb-826b9f1012f7",
   "metadata": {
    "tags": []
   },
   "outputs": [],
   "source": [
    "# Set the path for the model weights to be stored into. Instead of storing weights across all batches,\n",
    "# only best weights gets saved.\n",
    "model_checkpoint_callback = tf.keras.callbacks.ModelCheckpoint(\"./model_weights/my_cifar10_bn_model.keras\", save_best_only=True)\n",
    "\n",
    "# Set callback to stop training when model does improve after 20 training iterations\n",
    "early_stopping_callback = <code here>\n",
    "\n",
    "# Prepare list of callbacks to be passed into training process\n",
    "callbacks = [early_stopping_callback, model_checkpoint_callback]"
   ]
  },
  {
   "cell_type": "code",
   "execution_count": null,
   "id": "6ba2983e-1f0f-4999-b0ad-30718312e645",
   "metadata": {
    "tags": []
   },
   "outputs": [],
   "source": [
    "# Fit the model by specifying training dataset, 100 epochs,\n",
    "# validation data (tuple with features and labels) and callbacks\n",
    "\n",
    "<code here>"
   ]
  },
  {
   "cell_type": "code",
   "execution_count": null,
   "id": "e36dec51-a40e-4e0f-8035-2bcca5b82860",
   "metadata": {
    "tags": []
   },
   "outputs": [],
   "source": [
    "# Evaluate model performance agaisnt against validation data\n",
    "<code here>"
   ]
  },
  {
   "cell_type": "markdown",
   "id": "2e66e906-8aca-4768-914e-6b24ed593a50",
   "metadata": {},
   "source": [
    "**Note down if the accuracy of this model is better than that of the previous model.**"
   ]
  },
  {
   "cell_type": "markdown",
   "id": "214944f3-034e-4133-83d1-4b4b51b423c7",
   "metadata": {},
   "source": [
    "**Observations:**\n",
    "\n",
    "Note down all your observations in green/blue book."
   ]
  },
  {
   "cell_type": "code",
   "execution_count": null,
   "id": "11859cad-69be-4a19-8961-1823be9bfac8",
   "metadata": {},
   "outputs": [],
   "source": []
  }
 ],
 "metadata": {
  "kernelspec": {
   "display_name": "Python 3 (ipykernel)",
   "language": "python",
   "name": "python3"
  },
  "language_info": {
   "codemirror_mode": {
    "name": "ipython",
    "version": 3
   },
   "file_extension": ".py",
   "mimetype": "text/x-python",
   "name": "python",
   "nbconvert_exporter": "python",
   "pygments_lexer": "ipython3",
   "version": "3.11.5"
  }
 },
 "nbformat": 4,
 "nbformat_minor": 5
}
